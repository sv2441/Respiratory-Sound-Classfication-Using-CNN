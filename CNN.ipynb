{
 "cells": [
  {
   "cell_type": "code",
   "execution_count": 1,
   "metadata": {},
   "outputs": [],
   "source": [
    "from os import listdir\n",
    "from os.path import isfile, join\n",
    "import pandas as pd\n",
    "import librosa\n"
   ]
  },
  {
   "cell_type": "code",
   "execution_count": null,
   "metadata": {},
   "outputs": [],
   "source": []
  },
  {
   "cell_type": "code",
   "execution_count": 3,
   "metadata": {},
   "outputs": [],
   "source": [
    "import matplotlib.pyplot as plt\n",
    "import numpy as np\n",
    "from sklearn.model_selection import train_test_split\n",
    "from timeit import default_timer as timer\n",
    "from sklearn.metrics import classification_report, confusion_matrix\n",
    "import seaborn as sn\n",
    "import matplotlib.pyplot as plt\n",
    "\n",
    "from tensorflow.keras.models import Sequential, Model\n",
    "from tensorflow.keras import regularizers, optimizers\n",
    "from tensorflow.keras.layers import Dense, Conv1D, Flatten, Activation, MaxPooling1D, Dropout\n",
    "from tensorflow.keras.utils import plot_model,to_categorical"
   ]
  },
  {
   "cell_type": "code",
   "execution_count": 4,
   "metadata": {},
   "outputs": [],
   "source": [
    "class Diagnosis():\n",
    "  def __init__ (self, id, diagnosis, image_path):\n",
    "    self.id = id\n",
    "    self.diagnosis = diagnosis \n",
    "    self.image_path = image_path   "
   ]
  },
  {
   "cell_type": "code",
   "execution_count": 5,
   "metadata": {},
   "outputs": [],
   "source": [
    "def get_wav_files():\n",
    "  audio_path = 'C:/Users/gf63/Desktop/Project_EDL_SML_AUML/Respiratory_Sound_Database/audio_and_txt_files/'\n",
    "  files = [f for f in listdir(audio_path) if isfile(join(audio_path, f))]  #Gets all files in dir\n",
    "  wav_files = [f for f in files if f.endswith('.wav')]  # Gets wav files \n",
    "  wav_files = sorted(wav_files)\n",
    "  return wav_files, audio_path"
   ]
  },
  {
   "cell_type": "code",
   "execution_count": 6,
   "metadata": {},
   "outputs": [],
   "source": [
    "def diagnosis_data():\n",
    "  diagnosis = pd.read_csv(r\"C:\\Users\\gf63\\Desktop\\Project_EDL_SML_AUML\\Respiratory_Sound_Database\\patient_diagnosis.csv\")\n",
    "  \n",
    "  wav_files, audio_path = get_wav_files()\n",
    "  diag_dict = { 101 : \"URTI\"}  \n",
    "  diagnosis_list = []\n",
    "  \n",
    "  for index , row in diagnosis.iterrows():\n",
    "    diag_dict[row[0]] = row[1]     \n",
    "\n",
    "  c = 0\n",
    "  for f in wav_files:\n",
    "    diagnosis_list.append(Diagnosis(c, diag_dict[int(f[:3])], audio_path+f))  \n",
    "    c+=1  \n",
    "\n",
    "  return diagnosis_list"
   ]
  },
  {
   "cell_type": "code",
   "execution_count": 7,
   "metadata": {},
   "outputs": [],
   "source": [
    "def audio_features(filename): \n",
    "  sound, sample_rate = librosa.load(filename)\n",
    "  stft = np.abs(librosa.stft(sound))  \n",
    " \n",
    "  mfccs = np.mean(librosa.feature.mfcc(y=sound, sr=sample_rate, n_mfcc=40),axis=1)\n",
    "  chroma = np.mean(librosa.feature.chroma_stft(S=stft, sr=sample_rate),axis=1)\n",
    "  mel = np.mean(librosa.feature.melspectrogram(sound, sr=sample_rate),axis=1)\n",
    "  contrast = np.mean(librosa.feature.spectral_contrast(S=stft, sr=sample_rate),axis=1)\n",
    "  tonnetz = np.mean(librosa.feature.tonnetz(y=librosa.effects.harmonic(sound), sr=sample_rate),axis=1)\n",
    "    \n",
    "  concat = np.concatenate((mfccs,chroma,mel,contrast,tonnetz))\n",
    "  return concat\n",
    "\n",
    "def data_points():\n",
    "  labels = []\n",
    "  images = []\n",
    "\n",
    "  to_hot_one = {\"COPD\":0, \"Healthy\":1, \"URTI\":2, \"Bronchiectasis\":3, \"Pneumonia\":4, \"Bronchiolitis\":5, \"Asthma\":6, \"LRTI\":7}\n",
    "  count = 0\n",
    "  for f in diagnosis_data():\n",
    "    print(count)\n",
    "    labels.append(to_hot_one[f.diagnosis]) \n",
    "    images.append(audio_features(f.image_path))\n",
    "    count+=1\n",
    "\n",
    "  return np.array(labels), np.array(images)"
   ]
  },
  {
   "cell_type": "code",
   "execution_count": 15,
   "metadata": {},
   "outputs": [],
   "source": [
    "def preprocessing(labels, images):    \n",
    "\n",
    "  # Remove Asthma and LRTI\n",
    "  images = np.delete(images, np.where((labels == 7) | (labels == 6))[0], axis=0) \n",
    "  labels = np.delete(labels, np.where((labels == 7) | (labels == 6))[0], axis=0)      \n",
    "\n",
    "  # Split data\n",
    "  X_train, X_test, y_train, y_test = train_test_split(images, labels, test_size=0.2, random_state=10)\n",
    "\n",
    "  # Hot one encode the labels\n",
    "  y_train = to_categorical(y_train)\n",
    "  y_test = to_categorical(y_test)  \n",
    "\n",
    "  # Format new data\n",
    "  y_train = np.reshape(y_train, (y_train.shape[0], 6))\n",
    "  X_train = np.reshape(X_train, (X_train.shape[0], X_train.shape[1], 1))\n",
    "  y_test = np.reshape(y_test, (y_test.shape[0], 6))\n",
    "  X_test = np.reshape(X_test, (X_test.shape[0], X_train.shape[1],  1))\n",
    "\n",
    "  return X_train, X_test, y_train, y_test"
   ]
  },
  {
   "cell_type": "code",
   "execution_count": null,
   "metadata": {},
   "outputs": [],
   "source": [
    "start = timer()\n",
    "\n",
    "labels, images = data_points()\n",
    "X_train, X_test, y_train, y_test = preprocessing(labels, images)\n",
    "\n",
    "print('Time taken: ', (timer() - start))"
   ]
  },
  {
   "cell_type": "code",
   "execution_count": 10,
   "metadata": {},
   "outputs": [
    {
     "name": "stdout",
     "output_type": "stream",
     "text": [
      "Epoch 1/70\n",
      "4/4 [==============================] - 3s 583ms/step - loss: 6.0145 - accuracy: 0.6276 - val_loss: 1.7844 - val_accuracy: 0.8370\n",
      "Epoch 2/70\n",
      "4/4 [==============================] - 2s 536ms/step - loss: 3.4973 - accuracy: 0.5839 - val_loss: 1.4550 - val_accuracy: 0.8370\n",
      "Epoch 3/70\n",
      "4/4 [==============================] - 2s 467ms/step - loss: 3.0604 - accuracy: 0.8008 - val_loss: 1.8328 - val_accuracy: 0.8913\n",
      "Epoch 4/70\n",
      "4/4 [==============================] - 2s 442ms/step - loss: 3.5370 - accuracy: 0.8513 - val_loss: 1.3653 - val_accuracy: 0.9022\n",
      "Epoch 5/70\n",
      "4/4 [==============================] - 2s 476ms/step - loss: 2.4515 - accuracy: 0.8336 - val_loss: 0.7957 - val_accuracy: 0.8750\n",
      "Epoch 6/70\n",
      "4/4 [==============================] - 2s 493ms/step - loss: 1.2954 - accuracy: 0.8158 - val_loss: 0.5767 - val_accuracy: 0.8859\n",
      "Epoch 7/70\n",
      "4/4 [==============================] - 2s 580ms/step - loss: 0.6546 - accuracy: 0.8568 - val_loss: 0.4331 - val_accuracy: 0.8859\n",
      "Epoch 8/70\n",
      "4/4 [==============================] - 2s 448ms/step - loss: 0.6252 - accuracy: 0.8513 - val_loss: 0.3674 - val_accuracy: 0.8967\n",
      "Epoch 9/70\n",
      "4/4 [==============================] - 2s 477ms/step - loss: 0.5133 - accuracy: 0.8540 - val_loss: 0.3991 - val_accuracy: 0.8967\n",
      "Epoch 10/70\n",
      "4/4 [==============================] - 2s 530ms/step - loss: 0.5021 - accuracy: 0.8568 - val_loss: 0.3430 - val_accuracy: 0.8967\n",
      "Epoch 11/70\n",
      "4/4 [==============================] - 2s 517ms/step - loss: 0.4735 - accuracy: 0.8568 - val_loss: 0.3367 - val_accuracy: 0.8967\n",
      "Epoch 12/70\n",
      "4/4 [==============================] - 2s 500ms/step - loss: 0.4338 - accuracy: 0.8513 - val_loss: 0.3111 - val_accuracy: 0.8967\n",
      "Epoch 13/70\n",
      "4/4 [==============================] - 2s 502ms/step - loss: 0.4239 - accuracy: 0.8568 - val_loss: 0.3173 - val_accuracy: 0.8804\n",
      "Epoch 14/70\n",
      "4/4 [==============================] - 2s 468ms/step - loss: 0.4034 - accuracy: 0.8581 - val_loss: 0.2974 - val_accuracy: 0.8859\n",
      "Epoch 15/70\n",
      "4/4 [==============================] - 2s 505ms/step - loss: 0.3745 - accuracy: 0.8540 - val_loss: 0.2776 - val_accuracy: 0.8804\n",
      "Epoch 16/70\n",
      "4/4 [==============================] - 2s 456ms/step - loss: 0.3607 - accuracy: 0.8608 - val_loss: 0.2592 - val_accuracy: 0.8913\n",
      "Epoch 17/70\n",
      "4/4 [==============================] - 2s 441ms/step - loss: 0.3399 - accuracy: 0.8677 - val_loss: 0.2696 - val_accuracy: 0.8804\n",
      "Epoch 18/70\n",
      "4/4 [==============================] - 2s 518ms/step - loss: 0.3127 - accuracy: 0.8677 - val_loss: 0.2426 - val_accuracy: 0.9185\n",
      "Epoch 19/70\n",
      "4/4 [==============================] - 2s 425ms/step - loss: 0.3270 - accuracy: 0.8622 - val_loss: 0.2307 - val_accuracy: 0.9076\n",
      "Epoch 20/70\n",
      "4/4 [==============================] - 2s 464ms/step - loss: 0.3286 - accuracy: 0.8786 - val_loss: 0.2528 - val_accuracy: 0.8967\n",
      "Epoch 21/70\n",
      "4/4 [==============================] - 2s 488ms/step - loss: 0.3379 - accuracy: 0.8745 - val_loss: 0.2209 - val_accuracy: 0.9185\n",
      "Epoch 22/70\n",
      "4/4 [==============================] - 2s 445ms/step - loss: 0.3022 - accuracy: 0.8881 - val_loss: 0.2245 - val_accuracy: 0.9293\n",
      "Epoch 23/70\n",
      "4/4 [==============================] - 2s 466ms/step - loss: 0.2851 - accuracy: 0.8922 - val_loss: 0.2197 - val_accuracy: 0.9076\n",
      "Epoch 24/70\n",
      "4/4 [==============================] - 2s 480ms/step - loss: 0.2637 - accuracy: 0.8936 - val_loss: 0.2109 - val_accuracy: 0.9130\n",
      "Epoch 25/70\n",
      "4/4 [==============================] - 2s 478ms/step - loss: 0.2573 - accuracy: 0.8963 - val_loss: 0.2178 - val_accuracy: 0.9185\n",
      "Epoch 26/70\n",
      "4/4 [==============================] - 2s 434ms/step - loss: 0.2401 - accuracy: 0.9072 - val_loss: 0.2091 - val_accuracy: 0.9130\n",
      "Epoch 27/70\n",
      "4/4 [==============================] - 2s 458ms/step - loss: 0.2387 - accuracy: 0.9031 - val_loss: 0.2133 - val_accuracy: 0.9130\n",
      "Epoch 28/70\n",
      "4/4 [==============================] - 2s 445ms/step - loss: 0.2310 - accuracy: 0.9154 - val_loss: 0.1794 - val_accuracy: 0.9348\n",
      "Epoch 29/70\n",
      "4/4 [==============================] - 2s 478ms/step - loss: 0.2183 - accuracy: 0.9141 - val_loss: 0.2065 - val_accuracy: 0.9076\n",
      "Epoch 30/70\n",
      "4/4 [==============================] - 2s 463ms/step - loss: 0.2059 - accuracy: 0.9263 - val_loss: 0.1750 - val_accuracy: 0.9402\n",
      "Epoch 31/70\n",
      "4/4 [==============================] - 2s 457ms/step - loss: 0.1956 - accuracy: 0.9332 - val_loss: 0.1771 - val_accuracy: 0.9402\n",
      "Epoch 32/70\n",
      "4/4 [==============================] - 2s 439ms/step - loss: 0.1863 - accuracy: 0.9291 - val_loss: 0.1936 - val_accuracy: 0.9076\n",
      "Epoch 33/70\n",
      "4/4 [==============================] - 2s 472ms/step - loss: 0.1843 - accuracy: 0.9277 - val_loss: 0.1681 - val_accuracy: 0.9348\n",
      "Epoch 34/70\n",
      "4/4 [==============================] - 2s 451ms/step - loss: 0.1819 - accuracy: 0.9304 - val_loss: 0.1915 - val_accuracy: 0.9130\n",
      "Epoch 35/70\n",
      "4/4 [==============================] - 2s 465ms/step - loss: 0.1754 - accuracy: 0.9372 - val_loss: 0.1951 - val_accuracy: 0.9185\n",
      "Epoch 36/70\n",
      "4/4 [==============================] - 2s 563ms/step - loss: 0.1792 - accuracy: 0.9222 - val_loss: 0.1975 - val_accuracy: 0.9185\n",
      "Epoch 37/70\n",
      "4/4 [==============================] - 2s 470ms/step - loss: 0.1794 - accuracy: 0.9263 - val_loss: 0.1796 - val_accuracy: 0.9402\n",
      "Epoch 38/70\n",
      "4/4 [==============================] - 2s 449ms/step - loss: 0.1651 - accuracy: 0.9291 - val_loss: 0.1989 - val_accuracy: 0.9130\n",
      "Epoch 39/70\n",
      "4/4 [==============================] - 2s 542ms/step - loss: 0.1586 - accuracy: 0.9468 - val_loss: 0.1710 - val_accuracy: 0.9457\n",
      "Epoch 40/70\n",
      "4/4 [==============================] - 2s 527ms/step - loss: 0.1550 - accuracy: 0.9386 - val_loss: 0.2016 - val_accuracy: 0.9076\n",
      "Epoch 41/70\n",
      "4/4 [==============================] - 2s 446ms/step - loss: 0.1507 - accuracy: 0.9318 - val_loss: 0.1604 - val_accuracy: 0.9402\n",
      "Epoch 42/70\n",
      "4/4 [==============================] - 2s 474ms/step - loss: 0.1395 - accuracy: 0.9413 - val_loss: 0.1712 - val_accuracy: 0.9293\n",
      "Epoch 43/70\n",
      "4/4 [==============================] - 2s 543ms/step - loss: 0.1331 - accuracy: 0.9577 - val_loss: 0.1755 - val_accuracy: 0.9402\n",
      "Epoch 44/70\n",
      "4/4 [==============================] - 2s 498ms/step - loss: 0.1320 - accuracy: 0.9482 - val_loss: 0.1767 - val_accuracy: 0.9402\n",
      "Epoch 45/70\n",
      "4/4 [==============================] - 2s 489ms/step - loss: 0.1171 - accuracy: 0.9550 - val_loss: 0.1766 - val_accuracy: 0.9293\n",
      "Epoch 46/70\n",
      "4/4 [==============================] - 2s 490ms/step - loss: 0.1228 - accuracy: 0.9509 - val_loss: 0.1710 - val_accuracy: 0.9402\n",
      "Epoch 47/70\n",
      "4/4 [==============================] - 2s 445ms/step - loss: 0.1360 - accuracy: 0.9400 - val_loss: 0.1985 - val_accuracy: 0.9185\n",
      "Epoch 48/70\n",
      "4/4 [==============================] - 2s 446ms/step - loss: 0.1259 - accuracy: 0.9509 - val_loss: 0.1796 - val_accuracy: 0.9457\n",
      "Epoch 49/70\n",
      "4/4 [==============================] - 2s 463ms/step - loss: 0.1343 - accuracy: 0.9482 - val_loss: 0.1956 - val_accuracy: 0.9185\n",
      "Epoch 50/70\n",
      "4/4 [==============================] - 2s 487ms/step - loss: 0.1181 - accuracy: 0.9618 - val_loss: 0.1893 - val_accuracy: 0.9293\n",
      "Epoch 51/70\n",
      "4/4 [==============================] - 2s 435ms/step - loss: 0.1072 - accuracy: 0.9577 - val_loss: 0.1753 - val_accuracy: 0.9348\n",
      "Epoch 52/70\n",
      "4/4 [==============================] - 2s 442ms/step - loss: 0.1171 - accuracy: 0.9550 - val_loss: 0.1891 - val_accuracy: 0.9293\n",
      "Epoch 53/70\n",
      "4/4 [==============================] - 2s 444ms/step - loss: 0.0980 - accuracy: 0.9632 - val_loss: 0.1769 - val_accuracy: 0.9348\n",
      "Epoch 54/70\n",
      "4/4 [==============================] - 2s 460ms/step - loss: 0.1021 - accuracy: 0.9604 - val_loss: 0.1764 - val_accuracy: 0.9348\n",
      "Epoch 55/70\n",
      "4/4 [==============================] - 2s 455ms/step - loss: 0.0916 - accuracy: 0.9686 - val_loss: 0.1897 - val_accuracy: 0.9348\n",
      "Epoch 56/70\n",
      "4/4 [==============================] - 2s 439ms/step - loss: 0.0943 - accuracy: 0.9645 - val_loss: 0.1743 - val_accuracy: 0.9293\n",
      "Epoch 57/70\n",
      "4/4 [==============================] - 2s 481ms/step - loss: 0.0903 - accuracy: 0.9632 - val_loss: 0.1685 - val_accuracy: 0.9402\n",
      "Epoch 58/70\n",
      "4/4 [==============================] - 2s 453ms/step - loss: 0.0807 - accuracy: 0.9727 - val_loss: 0.1921 - val_accuracy: 0.9185\n",
      "Epoch 59/70\n",
      "4/4 [==============================] - 2s 446ms/step - loss: 0.0808 - accuracy: 0.9714 - val_loss: 0.1695 - val_accuracy: 0.9293\n",
      "Epoch 60/70\n",
      "4/4 [==============================] - 2s 460ms/step - loss: 0.0925 - accuracy: 0.9659 - val_loss: 0.1814 - val_accuracy: 0.9239\n",
      "Epoch 61/70\n",
      "4/4 [==============================] - 2s 501ms/step - loss: 0.0766 - accuracy: 0.9768 - val_loss: 0.1825 - val_accuracy: 0.9402\n",
      "Epoch 62/70\n",
      "4/4 [==============================] - 2s 504ms/step - loss: 0.0737 - accuracy: 0.9714 - val_loss: 0.1843 - val_accuracy: 0.9239\n",
      "Epoch 63/70\n",
      "4/4 [==============================] - 2s 443ms/step - loss: 0.0697 - accuracy: 0.9809 - val_loss: 0.1912 - val_accuracy: 0.9239\n",
      "Epoch 64/70\n",
      "4/4 [==============================] - 2s 487ms/step - loss: 0.0737 - accuracy: 0.9741 - val_loss: 0.1893 - val_accuracy: 0.9402\n",
      "Epoch 65/70\n",
      "4/4 [==============================] - 2s 545ms/step - loss: 0.0626 - accuracy: 0.9809 - val_loss: 0.1787 - val_accuracy: 0.9348\n",
      "Epoch 66/70\n",
      "4/4 [==============================] - 2s 466ms/step - loss: 0.0767 - accuracy: 0.9727 - val_loss: 0.1863 - val_accuracy: 0.9457\n",
      "Epoch 67/70\n",
      "4/4 [==============================] - 2s 475ms/step - loss: 0.0662 - accuracy: 0.9809 - val_loss: 0.1755 - val_accuracy: 0.9511\n",
      "Epoch 68/70\n",
      "4/4 [==============================] - 2s 428ms/step - loss: 0.0627 - accuracy: 0.9727 - val_loss: 0.1879 - val_accuracy: 0.9348\n",
      "Epoch 69/70\n",
      "4/4 [==============================] - 2s 437ms/step - loss: 0.0600 - accuracy: 0.9809 - val_loss: 0.1818 - val_accuracy: 0.9402\n",
      "Epoch 70/70\n",
      "4/4 [==============================] - 2s 491ms/step - loss: 0.0544 - accuracy: 0.9823 - val_loss: 0.1801 - val_accuracy: 0.9402\n"
     ]
    }
   ],
   "source": [
    "model = Sequential()\n",
    "model.add(Conv1D(64, kernel_size=5, activation='relu', input_shape=(193, 1)))\n",
    "\n",
    "model.add(Conv1D(128, kernel_size=5, activation='relu'))\n",
    "model.add(MaxPooling1D(2)) \n",
    "\n",
    "model.add(Conv1D(256, kernel_size=5, activation='relu'))\n",
    "\n",
    "model.add(Dropout(0.3))\n",
    "model.add(Flatten())\n",
    "\n",
    "model.add(Dense(512, activation='relu'))   \n",
    "model.add(Dense(6, activation='softmax'))\n",
    "\n",
    "model.compile(loss='categorical_crossentropy', optimizer='adam', metrics=['accuracy'])\n",
    "history = model.fit(X_train, y_train, validation_data=(X_test, y_test), epochs=70, batch_size=200, verbose=1)"
   ]
  },
  {
   "cell_type": "code",
   "execution_count": 11,
   "metadata": {},
   "outputs": [
    {
     "name": "stdout",
     "output_type": "stream",
     "text": [
      "Accuracy: 94%\n",
      "Loss: 0.1801\n",
      "\n"
     ]
    },
    {
     "data": {
      "text/plain": [
       "<matplotlib.legend.Legend at 0x1d2a6a8eca0>"
      ]
     },
     "execution_count": 11,
     "metadata": {},
     "output_type": "execute_result"
    },
    {
     "data": {
      "image/png": "[encoded data removed]",
      "text/plain": [
       "<Figure size 1080x360 with 2 Axes>"
      ]
     },
     "metadata": {
      "needs_background": "light"
     },
     "output_type": "display_data"
    }
   ],
   "source": [
    "score = model.evaluate(X_test, y_test, batch_size=60, verbose=0)\n",
    "print('Accuracy: {0:.0%}'.format(score[1]/1))\n",
    "print(\"Loss: %.4f\\n\" % score[0])\n",
    "\n",
    "# Plot accuracy and loss graphs\n",
    "plt.figure(figsize = (15,5))\n",
    "plt.subplot(1,2,1)\n",
    "plt.title('Accuracy')\n",
    "plt.plot(history.history['accuracy'], label = 'training acc')\n",
    "plt.plot(history.history['val_accuracy'], label = 'validation acc')\n",
    "plt.legend()\n",
    "\n",
    "plt.subplot(1,2,2)\n",
    "plt.title('Loss')\n",
    "plt.plot(history.history['loss'], label = 'training loss')\n",
    "plt.plot(history.history['val_loss'], label = 'validation loss')\n",
    "plt.legend()"
   ]
  },
  {
   "cell_type": "code",
   "execution_count": 12,
   "metadata": {},
   "outputs": [
    {
     "name": "stdout",
     "output_type": "stream",
     "text": [
      "                precision    recall  f1-score   support\n",
      "\n",
      "          COPD       0.98      0.99      0.98       165\n",
      "       Healthy       0.50      0.57      0.53         7\n",
      "          URTI       0.33      0.25      0.29         4\n",
      "Bronchiectasis       1.00      0.50      0.67         4\n",
      "     Pneumoina       0.60      1.00      0.75         3\n",
      " Bronchiolitis       0.00      0.00      0.00         1\n",
      "\n",
      "      accuracy                           0.94       184\n",
      "     macro avg       0.57      0.55      0.54       184\n",
      "  weighted avg       0.94      0.94      0.94       184\n",
      "\n"
     ]
    },
    {
     "name": "stderr",
     "output_type": "stream",
     "text": [
      "c:\\Users\\gf63\\anaconda3\\lib\\site-packages\\sklearn\\metrics\\_classification.py:1334: UndefinedMetricWarning: Precision and F-score are ill-defined and being set to 0.0 in labels with no predicted samples. Use `zero_division` parameter to control this behavior.\n",
      "  _warn_prf(average, modifier, msg_start, len(result))\n",
      "c:\\Users\\gf63\\anaconda3\\lib\\site-packages\\sklearn\\metrics\\_classification.py:1334: UndefinedMetricWarning: Precision and F-score are ill-defined and being set to 0.0 in labels with no predicted samples. Use `zero_division` parameter to control this behavior.\n",
      "  _warn_prf(average, modifier, msg_start, len(result))\n",
      "c:\\Users\\gf63\\anaconda3\\lib\\site-packages\\sklearn\\metrics\\_classification.py:1334: UndefinedMetricWarning: Precision and F-score are ill-defined and being set to 0.0 in labels with no predicted samples. Use `zero_division` parameter to control this behavior.\n",
      "  _warn_prf(average, modifier, msg_start, len(result))\n"
     ]
    },
    {
     "data": {
      "text/plain": [
       "<AxesSubplot:xlabel='Predicted', ylabel='Actual'>"
      ]
     },
     "execution_count": 12,
     "metadata": {},
     "output_type": "execute_result"
    },
    {
     "data": {
      "image/png": "[encoded data removed]",
      "text/plain": [
       "<Figure size 720x504 with 2 Axes>"
      ]
     },
     "metadata": {
      "needs_background": "light"
     },
     "output_type": "display_data"
    }
   ],
   "source": [
    "matrix_index = [\"COPD\", \"Healthy\", \"URTI\", \"Bronchiectasis\", \"Pneumoina\", \"Bronchiolitis\"]\n",
    "\n",
    "preds = model.predict(X_test)\n",
    "classpreds = np.argmax(preds, axis=1) # predicted classes \n",
    "y_testclass = np.argmax(y_test, axis=1) # true classes\n",
    "\n",
    "cm = confusion_matrix(y_testclass, classpreds)\n",
    "print(classification_report(y_testclass, classpreds, target_names=matrix_index))\n",
    "\n",
    "# Get percentage value for each element of the matrix\n",
    "cm_sum = np.sum(cm, axis=1, keepdims=True)\n",
    "cm_perc = cm / cm_sum.astype(float) * 100\n",
    "annot = np.empty_like(cm).astype(str)\n",
    "nrows, ncols = cm.shape\n",
    "for i in range(nrows):\n",
    "    for j in range(ncols):\n",
    "        c = cm[i, j]\n",
    "        p = cm_perc[i, j]\n",
    "        if i == j:\n",
    "            s = cm_sum[i]\n",
    "            annot[i, j] = '%.1f%%\\n%d/%d' % (p, c, s)\n",
    "        elif c == 0:\n",
    "            annot[i, j] = ''\n",
    "        else:\n",
    "            annot[i, j] = '%.1f%%\\n%d' % (p, c)\n",
    "\n",
    "\n",
    "# Display confusion matrix \n",
    "df_cm = pd.DataFrame(cm, index = matrix_index, columns = matrix_index)\n",
    "df_cm.index.name = 'Actual'\n",
    "df_cm.columns.name = 'Predicted'\n",
    "fig, ax = plt.subplots(figsize=(10,7))\n",
    "sn.heatmap(df_cm, annot=annot, fmt='')"
   ]
  },
  {
   "cell_type": "code",
   "execution_count": 13,
   "metadata": {},
   "outputs": [],
   "source": [
    "model.save(\"cnn.h5\")"
   ]
  }
 ],
 "metadata": {
  "kernelspec": {
   "display_name": "base",
   "language": "python",
   "name": "python3"
  },
  "language_info": {
   "codemirror_mode": {
    "name": "ipython",
    "version": 3
   },
   "file_extension": ".py",
   "mimetype": "text/x-python",
   "name": "python",
   "nbconvert_exporter": "python",
   "pygments_lexer": "ipython3",
   "version": "3.9.7 (default, Sep 16 2021, 16:59:28) [MSC v.1916 64 bit (AMD64)]"
  },
  "orig_nbformat": 4,
  "vscode": {
   "interpreter": {
    "hash": "6d4dafdfc5c8aeacc152a1ad50180d0da662137be42c55afc23e50ffbd6f3e33"
   }
  }
 },
 "nbformat": 4,
 "nbformat_minor": 2
}
